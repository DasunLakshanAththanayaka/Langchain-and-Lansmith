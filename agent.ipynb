{
 "cells": [
  {
   "cell_type": "code",
   "execution_count": 18,
   "id": "97743b67",
   "metadata": {},
   "outputs": [
    {
     "name": "stdout",
     "output_type": "stream",
     "text": [
      "Requirement already satisfied: langchain-tavily in c:\\users\\asus\\anaconda3\\envs\\testone\\lib\\site-packages (0.2.12)\n",
      "Requirement already satisfied: python-dotenv in c:\\users\\asus\\anaconda3\\envs\\testone\\lib\\site-packages (1.1.0)\n",
      "Requirement already satisfied: langchain-openai in c:\\users\\asus\\anaconda3\\envs\\testone\\lib\\site-packages (1.0.0)\n",
      "Requirement already satisfied: langchain-groq in c:\\users\\asus\\anaconda3\\envs\\testone\\lib\\site-packages (1.0.0)\n",
      "Requirement already satisfied: aiohttp<4.0.0,>=3.11.14 in c:\\users\\asus\\anaconda3\\envs\\testone\\lib\\site-packages (from langchain-tavily) (3.13.0)\n",
      "Requirement already satisfied: langchain<2.0.0,>=0.3.20 in c:\\users\\asus\\anaconda3\\envs\\testone\\lib\\site-packages (from langchain-tavily) (1.0.0)\n",
      "Requirement already satisfied: langchain-core<2.0.0,>=0.3.15 in c:\\users\\asus\\anaconda3\\envs\\testone\\lib\\site-packages (from langchain-tavily) (1.0.0)\n",
      "Requirement already satisfied: requests<3.0.0,>=2.32.3 in c:\\users\\asus\\anaconda3\\envs\\testone\\lib\\site-packages (from langchain-tavily) (2.32.5)\n",
      "Requirement already satisfied: openai<3.0.0,>=1.109.1 in c:\\users\\asus\\anaconda3\\envs\\testone\\lib\\site-packages (from langchain-openai) (2.5.0)\n",
      "Requirement already satisfied: tiktoken<1.0.0,>=0.7.0 in c:\\users\\asus\\anaconda3\\envs\\testone\\lib\\site-packages (from langchain-openai) (0.9.0)\n",
      "Requirement already satisfied: groq<1.0.0,>=0.30.0 in c:\\users\\asus\\anaconda3\\envs\\testone\\lib\\site-packages (from langchain-groq) (0.32.0)\n",
      "Requirement already satisfied: aiohappyeyeballs>=2.5.0 in c:\\users\\asus\\anaconda3\\envs\\testone\\lib\\site-packages (from aiohttp<4.0.0,>=3.11.14->langchain-tavily) (2.6.1)\n",
      "Requirement already satisfied: aiosignal>=1.4.0 in c:\\users\\asus\\anaconda3\\envs\\testone\\lib\\site-packages (from aiohttp<4.0.0,>=3.11.14->langchain-tavily) (1.4.0)\n",
      "Requirement already satisfied: attrs>=17.3.0 in c:\\users\\asus\\anaconda3\\envs\\testone\\lib\\site-packages (from aiohttp<4.0.0,>=3.11.14->langchain-tavily) (25.4.0)\n",
      "Requirement already satisfied: frozenlist>=1.1.1 in c:\\users\\asus\\anaconda3\\envs\\testone\\lib\\site-packages (from aiohttp<4.0.0,>=3.11.14->langchain-tavily) (1.8.0)\n",
      "Requirement already satisfied: multidict<7.0,>=4.5 in c:\\users\\asus\\anaconda3\\envs\\testone\\lib\\site-packages (from aiohttp<4.0.0,>=3.11.14->langchain-tavily) (6.7.0)\n",
      "Requirement already satisfied: propcache>=0.2.0 in c:\\users\\asus\\anaconda3\\envs\\testone\\lib\\site-packages (from aiohttp<4.0.0,>=3.11.14->langchain-tavily) (0.4.1)\n",
      "Requirement already satisfied: yarl<2.0,>=1.17.0 in c:\\users\\asus\\anaconda3\\envs\\testone\\lib\\site-packages (from aiohttp<4.0.0,>=3.11.14->langchain-tavily) (1.22.0)\n",
      "Requirement already satisfied: anyio<5,>=3.5.0 in c:\\users\\asus\\anaconda3\\envs\\testone\\lib\\site-packages (from groq<1.0.0,>=0.30.0->langchain-groq) (4.9.0)\n",
      "Requirement already satisfied: distro<2,>=1.7.0 in c:\\users\\asus\\anaconda3\\envs\\testone\\lib\\site-packages (from groq<1.0.0,>=0.30.0->langchain-groq) (1.9.0)\n",
      "Requirement already satisfied: httpx<1,>=0.23.0 in c:\\users\\asus\\anaconda3\\envs\\testone\\lib\\site-packages (from groq<1.0.0,>=0.30.0->langchain-groq) (0.28.1)\n",
      "Requirement already satisfied: pydantic<3,>=1.9.0 in c:\\users\\asus\\anaconda3\\envs\\testone\\lib\\site-packages (from groq<1.0.0,>=0.30.0->langchain-groq) (2.10.6)\n",
      "Requirement already satisfied: sniffio in c:\\users\\asus\\anaconda3\\envs\\testone\\lib\\site-packages (from groq<1.0.0,>=0.30.0->langchain-groq) (1.3.1)\n",
      "Requirement already satisfied: typing-extensions<5,>=4.10 in c:\\users\\asus\\anaconda3\\envs\\testone\\lib\\site-packages (from groq<1.0.0,>=0.30.0->langchain-groq) (4.12.2)\n",
      "Requirement already satisfied: langgraph<1.1.0,>=1.0.0 in c:\\users\\asus\\anaconda3\\envs\\testone\\lib\\site-packages (from langchain<2.0.0,>=0.3.20->langchain-tavily) (1.0.0)\n",
      "Requirement already satisfied: jsonpatch<2.0.0,>=1.33.0 in c:\\users\\asus\\anaconda3\\envs\\testone\\lib\\site-packages (from langchain-core<2.0.0,>=0.3.15->langchain-tavily) (1.33)\n",
      "Requirement already satisfied: langsmith<1.0.0,>=0.3.45 in c:\\users\\asus\\anaconda3\\envs\\testone\\lib\\site-packages (from langchain-core<2.0.0,>=0.3.15->langchain-tavily) (0.4.34)\n",
      "Requirement already satisfied: packaging<26.0.0,>=23.2.0 in c:\\users\\asus\\anaconda3\\envs\\testone\\lib\\site-packages (from langchain-core<2.0.0,>=0.3.15->langchain-tavily) (24.2)\n",
      "Requirement already satisfied: pyyaml<7.0.0,>=5.3.0 in c:\\users\\asus\\anaconda3\\envs\\testone\\lib\\site-packages (from langchain-core<2.0.0,>=0.3.15->langchain-tavily) (6.0.3)\n",
      "Requirement already satisfied: tenacity!=8.4.0,<10.0.0,>=8.1.0 in c:\\users\\asus\\anaconda3\\envs\\testone\\lib\\site-packages (from langchain-core<2.0.0,>=0.3.15->langchain-tavily) (9.1.2)\n",
      "Requirement already satisfied: jiter<1,>=0.10.0 in c:\\users\\asus\\anaconda3\\envs\\testone\\lib\\site-packages (from openai<3.0.0,>=1.109.1->langchain-openai) (0.11.1)\n",
      "Requirement already satisfied: tqdm>4 in c:\\users\\asus\\anaconda3\\envs\\testone\\lib\\site-packages (from openai<3.0.0,>=1.109.1->langchain-openai) (4.67.1)\n",
      "Requirement already satisfied: charset_normalizer<4,>=2 in c:\\users\\asus\\anaconda3\\envs\\testone\\lib\\site-packages (from requests<3.0.0,>=2.32.3->langchain-tavily) (3.4.1)\n",
      "Requirement already satisfied: idna<4,>=2.5 in c:\\users\\asus\\anaconda3\\envs\\testone\\lib\\site-packages (from requests<3.0.0,>=2.32.3->langchain-tavily) (3.10)\n",
      "Requirement already satisfied: urllib3<3,>=1.21.1 in c:\\users\\asus\\anaconda3\\envs\\testone\\lib\\site-packages (from requests<3.0.0,>=2.32.3->langchain-tavily) (2.3.0)\n",
      "Requirement already satisfied: certifi>=2017.4.17 in c:\\users\\asus\\anaconda3\\envs\\testone\\lib\\site-packages (from requests<3.0.0,>=2.32.3->langchain-tavily) (2025.1.31)\n",
      "Requirement already satisfied: regex>=2022.1.18 in c:\\users\\asus\\anaconda3\\envs\\testone\\lib\\site-packages (from tiktoken<1.0.0,>=0.7.0->langchain-openai) (2024.11.6)\n",
      "Requirement already satisfied: httpcore==1.* in c:\\users\\asus\\anaconda3\\envs\\testone\\lib\\site-packages (from httpx<1,>=0.23.0->groq<1.0.0,>=0.30.0->langchain-groq) (1.0.7)\n",
      "Requirement already satisfied: h11<0.15,>=0.13 in c:\\users\\asus\\anaconda3\\envs\\testone\\lib\\site-packages (from httpcore==1.*->httpx<1,>=0.23.0->groq<1.0.0,>=0.30.0->langchain-groq) (0.14.0)\n",
      "Requirement already satisfied: jsonpointer>=1.9 in c:\\users\\asus\\anaconda3\\envs\\testone\\lib\\site-packages (from jsonpatch<2.0.0,>=1.33.0->langchain-core<2.0.0,>=0.3.15->langchain-tavily) (3.0.0)\n",
      "Requirement already satisfied: langgraph-checkpoint<3.0.0,>=2.1.0 in c:\\users\\asus\\anaconda3\\envs\\testone\\lib\\site-packages (from langgraph<1.1.0,>=1.0.0->langchain<2.0.0,>=0.3.20->langchain-tavily) (2.1.2)\n",
      "Requirement already satisfied: langgraph-prebuilt<1.1.0,>=1.0.0 in c:\\users\\asus\\anaconda3\\envs\\testone\\lib\\site-packages (from langgraph<1.1.0,>=1.0.0->langchain<2.0.0,>=0.3.20->langchain-tavily) (1.0.0)\n",
      "Requirement already satisfied: langgraph-sdk<0.3.0,>=0.2.2 in c:\\users\\asus\\anaconda3\\envs\\testone\\lib\\site-packages (from langgraph<1.1.0,>=1.0.0->langchain<2.0.0,>=0.3.20->langchain-tavily) (0.2.9)\n",
      "Requirement already satisfied: xxhash>=3.5.0 in c:\\users\\asus\\anaconda3\\envs\\testone\\lib\\site-packages (from langgraph<1.1.0,>=1.0.0->langchain<2.0.0,>=0.3.20->langchain-tavily) (3.6.0)\n",
      "Requirement already satisfied: orjson>=3.9.14 in c:\\users\\asus\\anaconda3\\envs\\testone\\lib\\site-packages (from langsmith<1.0.0,>=0.3.45->langchain-core<2.0.0,>=0.3.15->langchain-tavily) (3.11.3)\n",
      "Requirement already satisfied: requests-toolbelt>=1.0.0 in c:\\users\\asus\\anaconda3\\envs\\testone\\lib\\site-packages (from langsmith<1.0.0,>=0.3.45->langchain-core<2.0.0,>=0.3.15->langchain-tavily) (1.0.0)\n",
      "Requirement already satisfied: zstandard>=0.23.0 in c:\\users\\asus\\anaconda3\\envs\\testone\\lib\\site-packages (from langsmith<1.0.0,>=0.3.45->langchain-core<2.0.0,>=0.3.15->langchain-tavily) (0.25.0)\n",
      "Requirement already satisfied: annotated-types>=0.6.0 in c:\\users\\asus\\anaconda3\\envs\\testone\\lib\\site-packages (from pydantic<3,>=1.9.0->groq<1.0.0,>=0.30.0->langchain-groq) (0.7.0)\n",
      "Requirement already satisfied: pydantic-core==2.27.2 in c:\\users\\asus\\anaconda3\\envs\\testone\\lib\\site-packages (from pydantic<3,>=1.9.0->groq<1.0.0,>=0.30.0->langchain-groq) (2.27.2)\n",
      "Requirement already satisfied: colorama in c:\\users\\asus\\anaconda3\\envs\\testone\\lib\\site-packages (from tqdm>4->openai<3.0.0,>=1.109.1->langchain-openai) (0.4.6)\n",
      "Requirement already satisfied: ormsgpack>=1.10.0 in c:\\users\\asus\\anaconda3\\envs\\testone\\lib\\site-packages (from langgraph-checkpoint<3.0.0,>=2.1.0->langgraph<1.1.0,>=1.0.0->langchain<2.0.0,>=0.3.20->langchain-tavily) (1.11.0)\n",
      "Note: you may need to restart the kernel to use updated packages.\n"
     ]
    }
   ],
   "source": [
    "# LangChain Agent with Groq and Tavily Search\n",
    "\n",
    "# This notebook demonstrates how to create a conversational AI agent using:\n",
    "# - **Groq** for fast LLM inference\n",
    "# - **Tavily** for web search capabilities\n",
    "# - **LangGraph** for agent orchestration\n",
    "\n",
    "# ## Prerequisites\n",
    "# Run the following command to install required packages:\n",
    "# ```bash\n",
    "%pip install langchain-tavily python-dotenv langchain-openai langchain-groq\n",
    "# ```"
   ]
  },
  {
   "cell_type": "code",
   "execution_count": 19,
   "id": "db5d370a",
   "metadata": {},
   "outputs": [
    {
     "name": "stdout",
     "output_type": "stream",
     "text": [
      "Groq API Key: ✓ Loaded\n",
      "Tavily API Key: ✓ Loaded\n"
     ]
    }
   ],
   "source": [
    "# Load environment variables\n",
    "from dotenv import load_dotenv\n",
    "import os\n",
    "\n",
    "# Load .env file containing API keys\n",
    "load_dotenv()\n",
    "\n",
    "# Verify API keys are loaded\n",
    "groq_key = os.getenv(\"GROQ_API_KEY\")\n",
    "tavily_key = os.getenv(\"TAVILY_API_KEY\")\n",
    "\n",
    "print(f\"Groq API Key: {'✓ Loaded' if groq_key else '✗ Missing'}\")\n",
    "print(f\"Tavily API Key: {'✓ Loaded' if tavily_key else '✗ Missing'}\")\n",
    "\n",
    "if not groq_key:\n",
    "    print(\"⚠️  Add GROQ_API_KEY to your .env file\")\n",
    "if not tavily_key:\n",
    "    print(\"⚠️  Add TAVILY_API_KEY to your .env file\")"
   ]
  },
  {
   "cell_type": "code",
   "execution_count": 26,
   "id": "5d557afe",
   "metadata": {},
   "outputs": [
    {
     "name": "stdout",
     "output_type": "stream",
     "text": [
      "✅ Agent created successfully!\n"
     ]
    },
    {
     "name": "stderr",
     "output_type": "stream",
     "text": [
      "C:\\Users\\ASUS\\AppData\\Local\\Temp\\ipykernel_18788\\2083565201.py:14: LangGraphDeprecatedSinceV10: create_react_agent has been moved to `langchain.agents`. Please update your import to `from langchain.agents import create_agent`. Deprecated in LangGraph V1.0 to be removed in V2.0.\n",
      "  agent_executor = create_react_agent(model, tools, checkpointer=memory)\n"
     ]
    }
   ],
   "source": [
    "# Import required libraries\n",
    "from langchain.chat_models import init_chat_model\n",
    "from langchain_tavily import TavilySearch\n",
    "from langgraph.checkpoint.memory import MemorySaver\n",
    "from langgraph.prebuilt import create_react_agent\n",
    "\n",
    "# Initialize components\n",
    "memory = MemorySaver()\n",
    "model = init_chat_model(\"groq:llama-3.1-8b-instant\", temperature=0)\n",
    "search = TavilySearch(max_results=2)\n",
    "tools = [search]\n",
    "\n",
    "# Create the agent\n",
    "agent_executor = create_react_agent(model, tools, checkpointer=memory)\n",
    "\n",
    "print(\"✅ Agent created successfully!\")"
   ]
  },
  {
   "cell_type": "code",
   "execution_count": 27,
   "id": "671d6c25",
   "metadata": {},
   "outputs": [
    {
     "name": "stdout",
     "output_type": "stream",
     "text": [
      "==================================\u001b[1m Ai Message \u001b[0m==================================\n",
      "\n",
      "Nice to meet you, Bob. What can I help you with today?\n"
     ]
    }
   ],
   "source": [
    "# Use the agent\n",
    "config = {\"configurable\": {\"thread_id\": \"abc123\"}}\n",
    "\n",
    "input_message = {\n",
    "    \"role\": \"user\",\n",
    "    \"content\": \"Hi, I'm Bob and I live in SF.\",\n",
    "}\n",
    "for step in agent_executor.stream(\n",
    "    {\"messages\": [input_message]}, config, stream_mode=\"values\"\n",
    "):\n",
    "    final_message=step[\"messages\"][-1]\n",
    "\n",
    "final_message.pretty_print()"
   ]
  },
  {
   "cell_type": "code",
   "execution_count": 28,
   "id": "958ce85d",
   "metadata": {},
   "outputs": [
    {
     "name": "stdout",
     "output_type": "stream",
     "text": [
      "================================\u001b[1m Human Message \u001b[0m=================================\n",
      "\n",
      "What's the weather where I live?\n",
      "==================================\u001b[1m Ai Message \u001b[0m==================================\n",
      "Tool Calls:\n",
      "  tavily_search (33as33k9q)\n",
      " Call ID: 33as33k9q\n",
      "  Args:\n",
      "    query: San Francisco weather today\n",
      "    search_depth: basic\n",
      "    topic: general\n",
      "=================================\u001b[1m Tool Message \u001b[0m=================================\n",
      "Name: tavily_search\n",
      "\n",
      "{\"query\": \"San Francisco weather today\", \"follow_up_questions\": null, \"answer\": null, \"images\": [], \"results\": [{\"title\": \"Weather in San Francisco, California\", \"url\": \"https://www.weatherapi.com/\", \"content\": \"{'location': {'name': 'San Francisco', 'region': 'California', 'country': 'United States of America', 'lat': 37.775, 'lon': -122.4183, 'tz_id': 'America/Los_Angeles', 'localtime_epoch': 1760965753, 'localtime': '2025-10-20 06:09'}, 'current': {'last_updated_epoch': 1760965200, 'last_updated': '2025-10-20 06:00', 'temp_c': 12.2, 'temp_f': 54.0, 'is_day': 0, 'condition': {'text': 'Fog', 'icon': '//cdn.weatherapi.com/weather/64x64/night/248.png', 'code': 1135}, 'wind_mph': 2.2, 'wind_kph': 3.6, 'wind_degree': 158, 'wind_dir': 'SSE', 'pressure_mb': 1017.0, 'pressure_in': 30.04, 'precip_mm': 0.0, 'precip_in': 0.0, 'humidity': 97, 'cloud': 0, 'feelslike_c': 12.7, 'feelslike_f': 54.8, 'windchill_c': 12.1, 'windchill_f': 53.8, 'heatindex_c': 12.3, 'heatindex_f': 54.2, 'dewpoint_c': 10.1, 'dewpoint_f': 50.2, 'vis_km': 16.0, 'vis_miles': 9.0, 'uv': 0.0, 'gust_mph': 3.6, 'gust_kph': 5.7}}\", \"score\": 0.9988365, \"raw_content\": null}, {\"url\": \"https://weathershogun.com/weather/usa/ca/san-francisco/480/october/2025-10-20\", \"title\": \"Monday, October 20, 2025. San Francisco, CA - Weather Forecast\", \"content\": \"San Francisco, California Weather: Monday, October 20, 2025. Day 75°. Night 55°. Precipitation 0 %. Wind 5 mph. UV Index (0 - 11+) 11\", \"score\": 0.97366726, \"raw_content\": null}], \"response_time\": 1.98, \"request_id\": \"b5dc777f-ebf5-4a1e-b135-0889eab4e7eb\"}\n",
      "==================================\u001b[1m Ai Message \u001b[0m==================================\n",
      "\n",
      "The current weather in San Francisco is foggy with a temperature of 54°F (12.2°C). The wind is blowing at 3.6 km/h (2.2 mph) from the southeast, and the humidity is 97%.\n"
     ]
    }
   ],
   "source": [
    "input_message = {\n",
    "    \"role\": \"user\",\n",
    "    \"content\": \"What's the weather where I live?\",\n",
    "}\n",
    "\n",
    "for step in agent_executor.stream(\n",
    "    {\"messages\": [input_message]}, config, stream_mode=\"values\"\n",
    "):\n",
    "    step[\"messages\"][-1].pretty_print()"
   ]
  },
  {
   "cell_type": "code",
   "execution_count": null,
   "id": "da694a2b",
   "metadata": {},
   "outputs": [],
   "source": []
  }
 ],
 "metadata": {
  "kernelspec": {
   "display_name": "testone",
   "language": "python",
   "name": "python3"
  },
  "language_info": {
   "codemirror_mode": {
    "name": "ipython",
    "version": 3
   },
   "file_extension": ".py",
   "mimetype": "text/x-python",
   "name": "python",
   "nbconvert_exporter": "python",
   "pygments_lexer": "ipython3",
   "version": "3.11.11"
  }
 },
 "nbformat": 4,
 "nbformat_minor": 5
}
