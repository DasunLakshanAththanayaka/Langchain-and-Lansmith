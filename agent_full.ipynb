{
 "cells": [
  {
   "cell_type": "code",
   "execution_count": 1,
   "id": "e5b57ecb",
   "metadata": {},
   "outputs": [],
   "source": [
    "#%pip install -U langgraph langchain-tavily langgraph-checkpoint-sqlite\n",
    "#%pip install python-dotenv\n"
   ]
  },
  {
   "cell_type": "code",
   "execution_count": 2,
   "id": "2dbd537d",
   "metadata": {},
   "outputs": [],
   "source": [
    "#load the travily api key from .env file\n",
    "from dotenv import load_dotenv\n",
    "import os\n",
    "\n",
    "# Load environment variables from .env file\n",
    "load_dotenv()\n",
    "\n",
    "# Access the Travily API key\n",
    "travily_api_key = os.getenv(\"TRAVILY_API_KEY\")"
   ]
  },
  {
   "cell_type": "code",
   "execution_count": 3,
   "id": "df1a00c9",
   "metadata": {},
   "outputs": [
    {
     "name": "stdout",
     "output_type": "stream",
     "text": [
      "{'query': 'What is the weather in SF', 'follow_up_questions': None, 'answer': None, 'images': [], 'results': [{'title': 'Weather in San Francisco', 'url': 'https://www.weatherapi.com/', 'content': \"{'location': {'name': 'San Francisco', 'region': 'California', 'country': 'United States of America', 'lat': 37.775, 'lon': -122.4183, 'tz_id': 'America/Los_Angeles', 'localtime_epoch': 1761117190, 'localtime': '2025-10-22 00:13'}, 'current': {'last_updated_epoch': 1761116400, 'last_updated': '2025-10-22 00:00', 'temp_c': 15.6, 'temp_f': 60.1, 'is_day': 0, 'condition': {'text': 'Partly cloudy', 'icon': '//cdn.weatherapi.com/weather/64x64/night/116.png', 'code': 1003}, 'wind_mph': 4.9, 'wind_kph': 7.9, 'wind_degree': 212, 'wind_dir': 'SSW', 'pressure_mb': 1017.0, 'pressure_in': 30.02, 'precip_mm': 0.0, 'precip_in': 0.0, 'humidity': 80, 'cloud': 75, 'feelslike_c': 15.6, 'feelslike_f': 60.1, 'windchill_c': 11.7, 'windchill_f': 53.1, 'heatindex_c': 12.9, 'heatindex_f': 55.3, 'dewpoint_c': 12.4, 'dewpoint_f': 54.2, 'vis_km': 16.0, 'vis_miles': 9.0, 'uv': 0.0, 'gust_mph': 7.6, 'gust_kph': 12.2}}\", 'score': 0.8597225, 'raw_content': None}, {'url': 'https://www.weather25.com/north-america/usa/california/san-francisco?page=month&month=October', 'title': 'San Francisco weather in October 2025 | Weather25.com', 'content': 'United States England Australia Canada °F °C 3. United States Location was added to My Locations Location was removed from My Locations The **temperatures in San Francisco in October are comfortable** with low of 13°C and and high up to 23°C. Sun Hours | Sun | Mon | Tue | Wed | Thu | Fri | Sat | | May | **20°** / 10° | 1 | 30 | 0 | 13 mm | Good | San Francisco in May | | October | **23°** / 13° | 1 | 30 | 0 | 26 mm | Perfect | San Francisco in October | Book NowThe St Regis San Francisco', 'score': 0.82895297, 'raw_content': None}], 'response_time': 0.0, 'request_id': '96399217-86a5-46cd-8c65-8d4cc7a63639'}\n"
     ]
    }
   ],
   "source": [
    "from langchain_tavily import TavilySearch\n",
    "\n",
    "search = TavilySearch(max_results=2)\n",
    "search_results = search.invoke(\"What is the weather in SF\")\n",
    "print(search_results)\n",
    "# If we want, we can create other tools.\n",
    "# Once we have all the tools we want, we can put them in a list that we will reference later.\n",
    "tools = [search]"
   ]
  },
  {
   "cell_type": "code",
   "execution_count": 4,
   "id": "e2891fe3",
   "metadata": {},
   "outputs": [],
   "source": [
    "#%pip install -qU \"langchain[google-genai]\""
   ]
  },
  {
   "cell_type": "code",
   "execution_count": 6,
   "id": "dbab8403",
   "metadata": {},
   "outputs": [
    {
     "name": "stderr",
     "output_type": "stream",
     "text": [
      "c:\\Users\\ASUS\\anaconda3\\envs\\testone\\Lib\\site-packages\\tqdm\\auto.py:21: TqdmWarning: IProgress not found. Please update jupyter and ipywidgets. See https://ipywidgets.readthedocs.io/en/stable/user_install.html\n",
      "  from .autonotebook import tqdm as notebook_tqdm\n"
     ]
    }
   ],
   "source": [
    "# Access the Travily API key\n",
    "travily_api_key = os.getenv(\"GOOGLE_API_KEY\")\n",
    "\n",
    "from langchain.chat_models import init_chat_model\n",
    "\n",
    "model = init_chat_model(\"gemini-2.5-flash\", model_provider=\"google_genai\")"
   ]
  },
  {
   "cell_type": "code",
   "execution_count": 7,
   "id": "452c0a2f",
   "metadata": {},
   "outputs": [
    {
     "name": "stderr",
     "output_type": "stream",
     "text": [
      "c:\\Users\\ASUS\\anaconda3\\envs\\testone\\Lib\\site-packages\\IPython\\core\\interactiveshell.py:3549: LangChainDeprecationWarning: Calling .text() as a method is deprecated. Use .text as a property instead (e.g., message.text).\n",
      "  exec(code_obj, self.user_global_ns, self.user_ns)\n"
     ]
    },
    {
     "data": {
      "text/plain": [
       "'Hello! How can I help you today?'"
      ]
     },
     "execution_count": 7,
     "metadata": {},
     "output_type": "execute_result"
    }
   ],
   "source": [
    "query = \"Hi!\"\n",
    "response = model.invoke([{\"role\": \"user\", \"content\": query}])\n",
    "response.text()"
   ]
  },
  {
   "cell_type": "code",
   "execution_count": 8,
   "id": "6ded191f",
   "metadata": {},
   "outputs": [],
   "source": [
    "model_with_tools = model.bind_tools(tools)"
   ]
  },
  {
   "cell_type": "code",
   "execution_count": 10,
   "id": "e40ad332",
   "metadata": {},
   "outputs": [
    {
     "name": "stdout",
     "output_type": "stream",
     "text": [
      "Message content: Hello! How can I help you today?\n",
      "\n",
      "Tool calls: []\n"
     ]
    }
   ],
   "source": [
    "query = \"Hi!\"\n",
    "response = model_with_tools.invoke([{\"role\": \"user\", \"content\": query}])\n",
    "\n",
    "print(f\"Message content: {response.text()}\\n\")\n",
    "print(f\"Tool calls: {response.tool_calls}\")"
   ]
  },
  {
   "cell_type": "code",
   "execution_count": 12,
   "id": "c26750a5",
   "metadata": {},
   "outputs": [
    {
     "name": "stdout",
     "output_type": "stream",
     "text": [
      "Message content: \n",
      "\n",
      "Tool calls: [{'name': 'tavily_search', 'args': {'query': 'weather in SF'}, 'id': 'fad2dfe3-e7fc-4ead-8d2a-1136ddab6e7b', 'type': 'tool_call'}]\n"
     ]
    }
   ],
   "source": [
    "query = \"Search for the weather in SF\"\n",
    "response = model_with_tools.invoke([{\"role\": \"user\", \"content\": query}])\n",
    "\n",
    "print(f\"Message content: {response.text()}\\n\")\n",
    "print(f\"Tool calls: {response.tool_calls}\")"
   ]
  },
  {
   "cell_type": "code",
   "execution_count": 13,
   "id": "a76acf74",
   "metadata": {},
   "outputs": [
    {
     "name": "stderr",
     "output_type": "stream",
     "text": [
      "C:\\Users\\ASUS\\AppData\\Local\\Temp\\ipykernel_428\\1543831842.py:3: LangGraphDeprecatedSinceV10: create_react_agent has been moved to `langchain.agents`. Please update your import to `from langchain.agents import create_agent`. Deprecated in LangGraph V1.0 to be removed in V2.0.\n",
      "  agent_executor = create_react_agent(model, tools)\n"
     ]
    }
   ],
   "source": [
    "from langgraph.prebuilt import create_react_agent\n",
    "\n",
    "agent_executor = create_react_agent(model, tools)"
   ]
  },
  {
   "cell_type": "code",
   "execution_count": 14,
   "id": "55dd554f",
   "metadata": {},
   "outputs": [
    {
     "name": "stdout",
     "output_type": "stream",
     "text": [
      "================================\u001b[1m Human Message \u001b[0m=================================\n",
      "\n",
      "Hi!\n",
      "==================================\u001b[1m Ai Message \u001b[0m==================================\n",
      "\n",
      "Hello! How can I help you today?\n"
     ]
    }
   ],
   "source": [
    "input_message = {\"role\": \"user\", \"content\": \"Hi!\"}\n",
    "response = agent_executor.invoke({\"messages\": [input_message]})\n",
    "\n",
    "for message in response[\"messages\"]:\n",
    "    message.pretty_print()"
   ]
  },
  {
   "cell_type": "code",
   "execution_count": 16,
   "id": "b3edc9ac",
   "metadata": {},
   "outputs": [
    {
     "name": "stdout",
     "output_type": "stream",
     "text": [
      "================================\u001b[1m Human Message \u001b[0m=================================\n",
      "\n",
      "Search for the weather in Colombo\n",
      "==================================\u001b[1m Ai Message \u001b[0m==================================\n",
      "Tool Calls:\n",
      "  tavily_search (2b5aa7d2-7fd0-4c49-acd5-0ee32fad690b)\n",
      " Call ID: 2b5aa7d2-7fd0-4c49-acd5-0ee32fad690b\n",
      "  Args:\n",
      "    query: weather in Colombo\n",
      "=================================\u001b[1m Tool Message \u001b[0m=================================\n",
      "Name: tavily_search\n",
      "\n",
      "{\"query\": \"weather in Colombo\", \"follow_up_questions\": null, \"answer\": null, \"images\": [], \"results\": [{\"title\": \"Weather in Colombo\", \"url\": \"https://www.weatherapi.com/\", \"content\": \"{'location': {'name': 'Colombo', 'region': 'Western', 'country': 'Sri Lanka', 'lat': 6.9319, 'lon': 79.8478, 'tz_id': 'Asia/Colombo', 'localtime_epoch': 1761119467, 'localtime': '2025-10-22 13:21'}, 'current': {'last_updated_epoch': 1761119100, 'last_updated': '2025-10-22 13:15', 'temp_c': 29.2, 'temp_f': 84.6, 'is_day': 1, 'condition': {'text': 'Overcast', 'icon': '//cdn.weatherapi.com/weather/64x64/day/122.png', 'code': 1009}, 'wind_mph': 11.0, 'wind_kph': 17.6, 'wind_degree': 216, 'wind_dir': 'SW', 'pressure_mb': 1009.0, 'pressure_in': 29.79, 'precip_mm': 1.04, 'precip_in': 0.04, 'humidity': 79, 'cloud': 100, 'feelslike_c': 35.4, 'feelslike_f': 95.8, 'windchill_c': 26.9, 'windchill_f': 80.5, 'heatindex_c': 30.3, 'heatindex_f': 86.5, 'dewpoint_c': 23.5, 'dewpoint_f': 74.2, 'vis_km': 10.0, 'vis_miles': 6.0, 'uv': 8.1, 'gust_mph': 14.4, 'gust_kph': 23.2}}\", \"score\": 0.9904694, \"raw_content\": null}, {\"url\": \"https://www.weather25.com/asia/sri-lanka/western/colombo?page=month&month=October\", \"title\": \"Colombo weather in October 2025 - Weather25.com\", \"content\": \"The weather in Colombo in October is very hot. The average temperatures are between 78°F and 86°F, drinking water regularly is advisable.\", \"score\": 0.8810534, \"raw_content\": null}], \"response_time\": 1.7, \"request_id\": \"55e517e5-1e8f-4bb8-85ef-51b1565c2a4d\"}\n",
      "==================================\u001b[1m Ai Message \u001b[0m==================================\n",
      "\n",
      "The current weather in Colombo, Sri Lanka is 29.2°C (84.6°F) and feels like 35.4°C (95.8°F). It is overcast with a wind of 17.6 kph (11.0 mph) from the SW. The humidity is 79% and there is 1.04mm of precipitation. The UV index is 8.1.\n"
     ]
    }
   ],
   "source": [
    "input_message = {\"role\": \"user\", \"content\": \"Search for the weather in Colombo\"}\n",
    "response = agent_executor.invoke({\"messages\": [input_message]})\n",
    "\n",
    "for message in response[\"messages\"]:\n",
    "    message.pretty_print()"
   ]
  },
  {
   "cell_type": "code",
   "execution_count": 17,
   "id": "c6d51dcc",
   "metadata": {},
   "outputs": [
    {
     "name": "stdout",
     "output_type": "stream",
     "text": [
      "================================\u001b[1m Human Message \u001b[0m=================================\n",
      "\n",
      "Search for the weather in Colombo\n",
      "==================================\u001b[1m Ai Message \u001b[0m==================================\n",
      "Tool Calls:\n",
      "  tavily_search (89c1d485-d99b-47c3-a48a-8fe7a704be00)\n",
      " Call ID: 89c1d485-d99b-47c3-a48a-8fe7a704be00\n",
      "  Args:\n",
      "    query: weather in Colombo\n",
      "=================================\u001b[1m Tool Message \u001b[0m=================================\n",
      "Name: tavily_search\n",
      "\n",
      "{\"query\": \"weather in Colombo\", \"follow_up_questions\": null, \"answer\": null, \"images\": [], \"results\": [{\"title\": \"Weather in Colombo\", \"url\": \"https://www.weatherapi.com/\", \"content\": \"{'location': {'name': 'Colombo', 'region': 'Western', 'country': 'Sri Lanka', 'lat': 6.9319, 'lon': 79.8478, 'tz_id': 'Asia/Colombo', 'localtime_epoch': 1761119467, 'localtime': '2025-10-22 13:21'}, 'current': {'last_updated_epoch': 1761119100, 'last_updated': '2025-10-22 13:15', 'temp_c': 29.2, 'temp_f': 84.6, 'is_day': 1, 'condition': {'text': 'Overcast', 'icon': '//cdn.weatherapi.com/weather/64x64/day/122.png', 'code': 1009}, 'wind_mph': 11.0, 'wind_kph': 17.6, 'wind_degree': 216, 'wind_dir': 'SW', 'pressure_mb': 1009.0, 'pressure_in': 29.79, 'precip_mm': 1.04, 'precip_in': 0.04, 'humidity': 79, 'cloud': 100, 'feelslike_c': 35.4, 'feelslike_f': 95.8, 'windchill_c': 26.9, 'windchill_f': 80.5, 'heatindex_c': 30.3, 'heatindex_f': 86.5, 'dewpoint_c': 23.5, 'dewpoint_f': 74.2, 'vis_km': 10.0, 'vis_miles': 6.0, 'uv': 8.1, 'gust_mph': 14.4, 'gust_kph': 23.2}}\", \"score\": 0.9904694, \"raw_content\": null}, {\"url\": \"https://www.weather25.com/asia/sri-lanka/western/colombo?page=month&month=October\", \"title\": \"Colombo weather in October 2025 - Weather25.com\", \"content\": \"The weather in Colombo in October is very hot. The average temperatures are between 78°F and 86°F, drinking water regularly is advisable.\", \"score\": 0.8810534, \"raw_content\": null}], \"response_time\": 0.0, \"request_id\": \"463aff2f-f086-4a05-b455-bb36f7986717\"}\n",
      "==================================\u001b[1m Ai Message \u001b[0m==================================\n",
      "\n",
      "The current weather in Colombo, Sri Lanka is overcast with a temperature of 29.2°C (84.6°F), feeling like 35.4°C (95.8°F). The wind is from the SW at 17.6 kph (11.0 mph), and the humidity is 79%. In October, Colombo typically experiences very hot weather with average temperatures between 78°F and 86°F.\n"
     ]
    }
   ],
   "source": [
    "for step in agent_executor.stream({\"messages\": [input_message]}, stream_mode=\"values\"):\n",
    "    step[\"messages\"][-1].pretty_print()"
   ]
  },
  {
   "cell_type": "code",
   "execution_count": 19,
   "id": "5e5f529d",
   "metadata": {},
   "outputs": [
    {
     "name": "stderr",
     "output_type": "stream",
     "text": [
      "c:\\Users\\ASUS\\anaconda3\\envs\\testone\\Lib\\site-packages\\IPython\\core\\interactiveshell.py:3549: LangChainDeprecationWarning: Calling .text() as a method is deprecated. Use .text as a property instead (e.g., message.text).\n",
      "  exec(code_obj, self.user_global_ns, self.user_ns)\n"
     ]
    },
    {
     "name": "stdout",
     "output_type": "stream",
     "text": [
      "The weather in Colombo|, Sri Lanka on October 22, 2025, at 13|:15 local time is 29.2°C (84.6°F) and feels like 35.4°C (95.8°F). It is overcast with a wind of 17.6| kph (11.0 mph) from the SW. The humidity is 79%, and there is 1.04mm of precipitation. The UV index is 8.1.|"
     ]
    }
   ],
   "source": [
    "config={}\n",
    "\n",
    "for step, metadata in agent_executor.stream(\n",
    "    {\"messages\": [input_message]}, config, stream_mode=\"messages\"\n",
    "):\n",
    "    if metadata[\"langgraph_node\"] == \"agent\" and (text := step.text()):\n",
    "        print(text, end=\"|\")"
   ]
  },
  {
   "cell_type": "code",
   "execution_count": 20,
   "id": "b3b934c6",
   "metadata": {},
   "outputs": [],
   "source": [
    "from langgraph.checkpoint.memory import MemorySaver\n",
    "\n",
    "memory = MemorySaver()"
   ]
  },
  {
   "cell_type": "code",
   "execution_count": 24,
   "id": "694000ca",
   "metadata": {},
   "outputs": [
    {
     "name": "stderr",
     "output_type": "stream",
     "text": [
      "C:\\Users\\ASUS\\AppData\\Local\\Temp\\ipykernel_428\\4203846759.py:1: LangGraphDeprecatedSinceV10: create_react_agent has been moved to `langchain.agents`. Please update your import to `from langchain.agents import create_agent`. Deprecated in LangGraph V1.0 to be removed in V2.0.\n",
      "  agent_executor = create_react_agent(model, tools, checkpointer=memory)\n"
     ]
    }
   ],
   "source": [
    "agent_executor = create_react_agent(model, tools, checkpointer=memory)\n",
    "\n",
    "config = {\"configurable\": {\"thread_id\": \"abc123\"}}"
   ]
  },
  {
   "cell_type": "code",
   "execution_count": 25,
   "id": "367aa5c7",
   "metadata": {},
   "outputs": [
    {
     "name": "stdout",
     "output_type": "stream",
     "text": [
      "================================\u001b[1m Human Message \u001b[0m=================================\n",
      "\n",
      "Hi, I'm Bob!\n",
      "==================================\u001b[1m Ai Message \u001b[0m==================================\n",
      "\n",
      "Hello Bob! How can I help you today?\n"
     ]
    }
   ],
   "source": [
    "for step in agent_executor.stream(\n",
    "    {\"messages\": [(\"user\", \"Hi, I'm Bob!\")]}, config, stream_mode=\"values\"\n",
    "):\n",
    "    step[\"messages\"][-1].pretty_print()"
   ]
  },
  {
   "cell_type": "code",
   "execution_count": 26,
   "id": "b44f6ab8",
   "metadata": {},
   "outputs": [
    {
     "name": "stdout",
     "output_type": "stream",
     "text": [
      "================================\u001b[1m Human Message \u001b[0m=================================\n",
      "\n",
      "What is my name?\n",
      "==================================\u001b[1m Ai Message \u001b[0m==================================\n",
      "\n",
      "In this current conversation, you've told me your name is Bob.\n"
     ]
    }
   ],
   "source": [
    "for step in agent_executor.stream(\n",
    "    {\"messages\": [(\"user\", \"What is my name?\")]}, config, stream_mode=\"values\"\n",
    "):\n",
    "    step[\"messages\"][-1].pretty_print()"
   ]
  },
  {
   "cell_type": "code",
   "execution_count": 27,
   "id": "55304752",
   "metadata": {},
   "outputs": [
    {
     "name": "stdout",
     "output_type": "stream",
     "text": [
      "================================\u001b[1m Human Message \u001b[0m=================================\n",
      "\n",
      "What is my name?\n",
      "==================================\u001b[1m Ai Message \u001b[0m==================================\n",
      "\n",
      "I do not know your name. I am a large language model, able to communicate in response to a wide range of prompts and questions, but I have no memory of past interactions.\n"
     ]
    }
   ],
   "source": [
    "config = {\"configurable\": {\"thread_id\": \"xyz123\"}}\n",
    "\n",
    "for step in agent_executor.stream(\n",
    "    {\"messages\": [(\"user\", \"What is my name?\")]}, config, stream_mode=\"values\"\n",
    "):\n",
    "    step[\"messages\"][-1].pretty_print()"
   ]
  },
  {
   "cell_type": "code",
   "execution_count": null,
   "id": "ae383415",
   "metadata": {},
   "outputs": [],
   "source": []
  }
 ],
 "metadata": {
  "kernelspec": {
   "display_name": "testone",
   "language": "python",
   "name": "python3"
  },
  "language_info": {
   "codemirror_mode": {
    "name": "ipython",
    "version": 3
   },
   "file_extension": ".py",
   "mimetype": "text/x-python",
   "name": "python",
   "nbconvert_exporter": "python",
   "pygments_lexer": "ipython3",
   "version": "3.11.11"
  }
 },
 "nbformat": 4,
 "nbformat_minor": 5
}
